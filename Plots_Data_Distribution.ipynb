{
 "cells": [
  {
   "cell_type": "code",
   "execution_count": 2,
   "metadata": {},
   "outputs": [
    {
     "name": "stdout",
     "output_type": "stream",
     "text": [
      "739\n"
     ]
    }
   ],
   "source": [
    "import pickle\n",
    "\n",
    "data = []\n",
    "with open('train_dic_with_sem.pkl') as f:\n",
    "    data = pickle.load(f)\n",
    "\n",
    "print len(data)"
   ]
  },
  {
   "cell_type": "code",
   "execution_count": 3,
   "metadata": {},
   "outputs": [
    {
     "name": "stdout",
     "output_type": "stream",
     "text": [
      "<type 'dict'>\n"
     ]
    }
   ],
   "source": [
    "print type(data)"
   ]
  },
  {
   "cell_type": "code",
   "execution_count": 37,
   "metadata": {},
   "outputs": [
    {
     "name": "stdout",
     "output_type": "stream",
     "text": [
      "1 {'grade': 10, 'semester': 1}\n"
     ]
    }
   ],
   "source": [
    "for k,v in data.iteritems():\n",
    "    print k,v['COM101']\n",
    "    break"
   ]
  },
  {
   "cell_type": "code",
   "execution_count": 106,
   "metadata": {},
   "outputs": [],
   "source": [
    "pre_courses = {}\n",
    "for k,v in data.iteritems():\n",
    "    for key,val in v.iteritems():\n",
    "        sem_val = int(val['semester'])\n",
    "        if sem_val > 0 and sem_val < 4:\n",
    "            pre_courses[key] = 0\n",
    "    "
   ]
  },
  {
   "cell_type": "code",
   "execution_count": 107,
   "metadata": {},
   "outputs": [
    {
     "data": {
      "text/plain": [
       "0"
      ]
     },
     "execution_count": 107,
     "metadata": {},
     "output_type": "execute_result"
    }
   ],
   "source": [
    "pre_courses['CSE131']"
   ]
  },
  {
   "cell_type": "code",
   "execution_count": 108,
   "metadata": {},
   "outputs": [],
   "source": [
    "course_student_dic = {}\n",
    "course_grade_dic = {}\n",
    "\n",
    "for k,v in data.iteritems():\n",
    "    for key, value in v.iteritems():\n",
    "        sem_val = int(value['semester'])\n",
    "        if (sem_val>4) and (key not in pre_courses):\n",
    "#             print key,sem_val\n",
    "            if key not in course_student_dic:\n",
    "                course_student_dic[key] = 0\n",
    "            course_student_dic[key] += 1\n",
    "            grade_val = int(value['grade'])\n",
    "            if grade_val>0:\n",
    "                if key not in course_grade_dic:\n",
    "                    course_grade_dic[key] = 0\n",
    "                course_grade_dic[key]+=grade_val"
   ]
  },
  {
   "cell_type": "code",
   "execution_count": 109,
   "metadata": {},
   "outputs": [
    {
     "data": {
      "text/plain": [
       "226"
      ]
     },
     "execution_count": 109,
     "metadata": {},
     "output_type": "execute_result"
    }
   ],
   "source": [
    "len(course_grade_dic)"
   ]
  },
  {
   "cell_type": "code",
   "execution_count": 110,
   "metadata": {},
   "outputs": [
    {
     "data": {
      "text/plain": [
       "244"
      ]
     },
     "execution_count": 110,
     "metadata": {},
     "output_type": "execute_result"
    }
   ],
   "source": [
    "len(course_student_dic)"
   ]
  },
  {
   "cell_type": "code",
   "execution_count": 115,
   "metadata": {},
   "outputs": [],
   "source": [
    "import operator\n",
    "\n",
    "sorted_student = sorted(course_student_dic.items(), key=operator.itemgetter(1),reverse=True)\n",
    "sorted_grade = sorted(course_grade_dic.items(), key=operator.itemgetter(1),reverse=True)"
   ]
  },
  {
   "cell_type": "code",
   "execution_count": 121,
   "metadata": {},
   "outputs": [
    {
     "data": {
      "text/plain": [
       "('CSE506', 396)"
      ]
     },
     "execution_count": 121,
     "metadata": {},
     "output_type": "execute_result"
    }
   ],
   "source": [
    "sorted_student[1]"
   ]
  },
  {
   "cell_type": "code",
   "execution_count": 120,
   "metadata": {},
   "outputs": [
    {
     "data": {
      "text/plain": [
       "('CSE345', 2956)"
      ]
     },
     "execution_count": 120,
     "metadata": {},
     "output_type": "execute_result"
    }
   ],
   "source": [
    "sorted_grade[1]"
   ]
  },
  {
   "cell_type": "code",
   "execution_count": 122,
   "metadata": {},
   "outputs": [],
   "source": [
    "import json\n",
    "\n",
    "with open('plot_student.json','wb') as f:\n",
    "    f.write(json.dumps(sorted_student))\n",
    "    "
   ]
  },
  {
   "cell_type": "code",
   "execution_count": 123,
   "metadata": {},
   "outputs": [],
   "source": [
    "with open('plot_grade.json','wb') as f:\n",
    "    f.write(json.dumps(sorted_grade))\n",
    "    \n",
    "    "
   ]
  },
  {
   "cell_type": "code",
   "execution_count": 124,
   "metadata": {},
   "outputs": [],
   "source": [
    "import numpy as np                                                               \n",
    "import matplotlib.pyplot as plt"
   ]
  },
  {
   "cell_type": "code",
   "execution_count": 125,
   "metadata": {},
   "outputs": [],
   "source": [
    "top = []\n",
    "for i in range(5):\n",
    "    top.append(sorted_student[i])\n",
    "    "
   ]
  },
  {
   "cell_type": "code",
   "execution_count": 126,
   "metadata": {},
   "outputs": [
    {
     "data": {
      "image/png": "[encoded data removed]",
      "text/plain": [
       "<Figure size 432x288 with 1 Axes>"
      ]
     },
     "metadata": {
      "needs_background": "light"
     },
     "output_type": "display_data"
    }
   ],
   "source": [
    "labels, ys = zip(*top)\n",
    "xs = np.arange(len(labels)) \n",
    "width = 1\n",
    "\n",
    "plt.bar(xs, ys, width, align='center')\n",
    "\n",
    "plt.xticks(xs, labels) #Replace default x-ticks with xs, then replace xs with labels\n",
    "plt.yticks(ys)\n",
    "\n",
    "plt.savefig('netscore.png')"
   ]
  },
  {
   "cell_type": "code",
   "execution_count": 194,
   "metadata": {},
   "outputs": [
    {
     "data": {
      "image/png": "[encoded data removed]",
      "text/plain": [
       "<Figure size 432x288 with 1 Axes>"
      ]
     },
     "metadata": {
      "needs_background": "light"
     },
     "output_type": "display_data"
    }
   ],
   "source": [
    "import matplotlib.pyplot as plt\n",
    "import numpy as np\n",
    "\n",
    "x = []\n",
    "y = []\n",
    "for i in range(len(top)):\n",
    "    x.append(top[i][0])\n",
    "    y.append(top[i][1])\n",
    "revx = x[::-1]\n",
    "revy = y[::-1]\n",
    "x = revx\n",
    "y = revy\n",
    "\n",
    "# def plot_bar_x():\n",
    "#     # this is for plotting purpose\n",
    "#     index = np.arange(len(label))\n",
    "#     plt.bar(index, value)\n",
    "#     plt.xlabel('Course', fontsize=10)\n",
    "#     plt.ylabel('No. of students', fontsize=10)\n",
    "#     plt.xticks(index, label, fontsize=10, rotation=30)\n",
    "#     plt.title('Course vs No. of students')\n",
    "#     plt.show()\n",
    "\n",
    "# plot_bar_x()\n",
    "\n",
    "fig, ax = plt.subplots()    \n",
    "width = 0.75 # the width of the bars \n",
    "ind = np.arange(len(y))  # the x locations for the groups\n",
    "for i, v in enumerate(y):\n",
    "    ax.text(v + 3, i + .25, str(v), color='blue', fontweight='bold')\n",
    "ax.barh(ind, y, width, color=\"blue\")\n",
    "ax.set_yticks(ind+width/2)\n",
    "ax.set_yticklabels(x, minor=False)\n",
    "plt.title('Courses vs No. of students')\n",
    "plt.xlabel('No. of students')\n",
    "plt.ylabel('Courses')      \n",
    "plt.savefig('courses_vs_students')\n",
    "#plt.show()"
   ]
  },
  {
   "cell_type": "code",
   "execution_count": 153,
   "metadata": {},
   "outputs": [],
   "source": [
    "# ---Pie charts time----\n",
    "\n",
    "cse535_dic = {}\n",
    "cse506_dic = {}\n",
    "cse345_dic = {}\n",
    "cse300_dic = {}\n",
    "fin401_dic = {}\n",
    "for k,v in data.iteritems():\n",
    "    for key,val in v.iteritems():\n",
    "        if key == 'CSE535':\n",
    "            grade_val = val['grade']\n",
    "            if grade_val not in cse535_dic:\n",
    "                cse535_dic[grade_val] = 0\n",
    "            cse535_dic[grade_val]+=1\n",
    "        if key == 'CSE506':\n",
    "            grade_val = val['grade']\n",
    "            if grade_val not in cse506_dic:\n",
    "                cse506_dic[grade_val] = 0\n",
    "            cse506_dic[grade_val]+=1\n",
    "        if key == 'CSE345':\n",
    "            grade_val = val['grade']\n",
    "            if grade_val not in cse345_dic:\n",
    "                cse345_dic[grade_val] = 0\n",
    "            cse345_dic[grade_val]+=1\n",
    "        if key == 'CSE300':\n",
    "            grade_val = val['grade']\n",
    "            if grade_val not in cse300_dic:\n",
    "                cse300_dic[grade_val] = 0\n",
    "            cse300_dic[grade_val]+=1\n",
    "        if key == 'FIN401':\n",
    "            grade_val = val['grade']\n",
    "            if grade_val not in fin401_dic:\n",
    "                fin401_dic[grade_val] = 0\n",
    "            fin401_dic[grade_val]+=1"
   ]
  },
  {
   "cell_type": "code",
   "execution_count": 154,
   "metadata": {},
   "outputs": [
    {
     "name": "stdout",
     "output_type": "stream",
     "text": [
      "9\n",
      "9\n",
      "9\n",
      "9\n",
      "9\n"
     ]
    }
   ],
   "source": [
    "print len(cse535_dic)\n",
    "print len(cse506_dic)\n",
    "print len(cse345_dic)\n",
    "print len(cse300_dic)\n",
    "print len(fin401_dic)\n"
   ]
  },
  {
   "cell_type": "code",
   "execution_count": 160,
   "metadata": {},
   "outputs": [],
   "source": [
    "del cse535_dic[0]\n",
    "del cse506_dic[0]\n",
    "del cse345_dic[0]\n",
    "del cse300_dic[0]\n",
    "del fin401_dic[0]\n"
   ]
  },
  {
   "cell_type": "code",
   "execution_count": 193,
   "metadata": {},
   "outputs": [
    {
     "data": {
      "image/png": "[encoded data removed]",
      "text/plain": [
       "<Figure size 432x288 with 1 Axes>"
      ]
     },
     "metadata": {},
     "output_type": "display_data"
    }
   ],
   "source": [
    "# Data to plot\n",
    "\n",
    "labels = []\n",
    "sizes = []\n",
    "for k,v in fin401_dic.iteritems():\n",
    "    labels.append(str(k))\n",
    "    sizes.append(int(v))\n",
    "\n",
    "# labels = ['Python', 'C++', 'Ruby', 'Java']\n",
    "# sizes = [215, 130, 245, 210]\n",
    "colors = ['red', 'yellowgreen', 'lightcoral', 'lightskyblue','blue','orange','green','gold']\n",
    "# explode = (0.1, 0, 0, 0)  # explode 1st slice\n",
    " \n",
    "# Plot\n",
    "plt.pie(sizes, labels=labels,colors=colors,\n",
    "    autopct='%1.1f%%', shadow=True, startangle=140)\n",
    "plt.title('FIN401')\n",
    " \n",
    "plt.axis('equal')\n",
    "plt.savefig('FIN401')\n",
    "plt.show()"
   ]
  },
  {
   "cell_type": "code",
   "execution_count": 157,
   "metadata": {},
   "outputs": [
    {
     "data": {
      "text/plain": [
       "tuple"
      ]
     },
     "execution_count": 157,
     "metadata": {},
     "output_type": "execute_result"
    }
   ],
   "source": [
    "type(labels)"
   ]
  },
  {
   "cell_type": "code",
   "execution_count": null,
   "metadata": {},
   "outputs": [],
   "source": []
  }
 ],
 "metadata": {
  "kernelspec": {
   "display_name": "Python 2",
   "language": "python",
   "name": "python2"
  },
  "language_info": {
   "codemirror_mode": {
    "name": "ipython",
    "version": 2
   },
   "file_extension": ".py",
   "mimetype": "text/x-python",
   "name": "python",
   "nbconvert_exporter": "python",
   "pygments_lexer": "ipython2",
   "version": "2.7.15rc1"
  }
 },
 "nbformat": 4,
 "nbformat_minor": 2
}
